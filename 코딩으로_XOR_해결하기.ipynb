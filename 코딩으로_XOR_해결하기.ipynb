{
  "nbformat": 4,
  "nbformat_minor": 0,
  "metadata": {
    "colab": {
      "name": "코딩으로 XOR 해결하기.ipynb",
      "provenance": [],
      "authorship_tag": "ABX9TyPqU6iqq6LVrh9mGbGJx6nq",
      "include_colab_link": true
    },
    "kernelspec": {
      "name": "python3",
      "display_name": "Python 3"
    },
    "language_info": {
      "name": "python"
    }
  },
  "cells": [
    {
      "cell_type": "markdown",
      "metadata": {
        "id": "view-in-github",
        "colab_type": "text"
      },
      "source": [
        "<a href=\"https://colab.research.google.com/github/evasseva/evasseva/blob/main/%EC%BD%94%EB%94%A9%EC%9C%BC%EB%A1%9C_XOR_%ED%95%B4%EA%B2%B0%ED%95%98%EA%B8%B0.ipynb\" target=\"_parent\"><img src=\"https://colab.research.google.com/assets/colab-badge.svg\" alt=\"Open In Colab\"/></a>"
      ]
    },
    {
      "cell_type": "code",
      "execution_count": 1,
      "metadata": {
        "id": "2pMHi6lNGEqJ"
      },
      "outputs": [],
      "source": [
        "import numpy as np"
      ]
    },
    {
      "cell_type": "code",
      "source": [
        "w11 = np.array([-2, -2])\n",
        "w12 = np.array([2, 2])\n",
        "w2 = np.array([1, 1])\n",
        "b1=3\n",
        "b2=-1\n",
        "b3=-1"
      ],
      "metadata": {
        "id": "qyO0zcJpG0a2"
      },
      "execution_count": 2,
      "outputs": []
    },
    {
      "cell_type": "code",
      "source": [
        "def MLP(x, w, b):\n",
        "    y = np.sum(w*x)+b\n",
        "    if y <= 0:\n",
        "        return 0\n",
        "    else:\n",
        "        return 1"
      ],
      "metadata": {
        "id": "m6dkcza2HCPT"
      },
      "execution_count": 3,
      "outputs": []
    },
    {
      "cell_type": "code",
      "source": [
        "def NAND(x1, x2):\n",
        "    return MLP(np.array([x1, x2]), w11, b1)\n",
        "\n",
        "def OR(x1, x2):\n",
        "    return MLP(np.array([x1, x2]), w12, b2)\n",
        "\n",
        "def AND(x1, x2):\n",
        "    return MLP(np.array([x1, x2]), w2, b3)\n",
        "\n",
        "def XOR(x1, x2):\n",
        "    return AND(NAND(x1, x2), OR(x1, x2))"
      ],
      "metadata": {
        "id": "vyqkDrjeHRN8"
      },
      "execution_count": 6,
      "outputs": []
    },
    {
      "cell_type": "code",
      "source": [
        "for x in [(0, 0), (1, 0), (0, 1), (1, 1)]:\n",
        "    y = XOR(x[0], x[1])\n",
        "    print(\"입력 값:\" + str(x)+\"출력 값:\"+str(y))"
      ],
      "metadata": {
        "colab": {
          "base_uri": "https://localhost:8080/"
        },
        "id": "5r2BVHUmH3SI",
        "outputId": "1b68ac39-43c0-4281-d2cb-53e10aca7929"
      },
      "execution_count": 7,
      "outputs": [
        {
          "output_type": "stream",
          "name": "stdout",
          "text": [
            "입력 값:(0, 0)출력 값:0\n",
            "입력 값:(1, 0)출력 값:1\n",
            "입력 값:(0, 1)출력 값:1\n",
            "입력 값:(1, 1)출력 값:0\n"
          ]
        }
      ]
    },
    {
      "cell_type": "code",
      "source": [
        ""
      ],
      "metadata": {
        "id": "A77RLiXSIJUP"
      },
      "execution_count": null,
      "outputs": []
    }
  ]
}