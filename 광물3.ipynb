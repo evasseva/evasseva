{
  "nbformat": 4,
  "nbformat_minor": 0,
  "metadata": {
    "colab": {
      "name": "광물3.ipynb",
      "provenance": [],
      "authorship_tag": "ABX9TyMBYJQ7AupdHlqclD/n6mTk",
      "include_colab_link": true
    },
    "kernelspec": {
      "name": "python3",
      "display_name": "Python 3"
    },
    "language_info": {
      "name": "python"
    }
  },
  "cells": [
    {
      "cell_type": "markdown",
      "metadata": {
        "id": "view-in-github",
        "colab_type": "text"
      },
      "source": [
        "<a href=\"https://colab.research.google.com/github/evasseva/evasseva/blob/main/%EA%B4%91%EB%AC%BC3.ipynb\" target=\"_parent\"><img src=\"https://colab.research.google.com/assets/colab-badge.svg\" alt=\"Open In Colab\"/></a>"
      ]
    },
    {
      "cell_type": "code",
      "execution_count": 1,
      "metadata": {
        "colab": {
          "base_uri": "https://localhost:8080/"
        },
        "id": "oQIZrJ5EFEjr",
        "outputId": "1dbc1503-57e0-40fa-c757-1f55dc000e9c"
      },
      "outputs": [
        {
          "output_type": "stream",
          "name": "stdout",
          "text": [
            "Cloning into 'data'...\n",
            "remote: Enumerating objects: 21, done.\u001b[K\n",
            "remote: Counting objects: 100% (21/21), done.\u001b[K\n",
            "remote: Compressing objects: 100% (18/18), done.\u001b[K\n",
            "remote: Total 21 (delta 3), reused 20 (delta 2), pack-reused 0\u001b[K\n",
            "Unpacking objects: 100% (21/21), done.\n"
          ]
        }
      ],
      "source": [
        "!git clone https://github.com/taehojo/data.git"
      ]
    },
    {
      "cell_type": "code",
      "source": [
        "import pandas as pd\n",
        "\n",
        "df = pd.read_csv(\"./data/sonar3.csv\", header=None)"
      ],
      "metadata": {
        "id": "7BzepVoWFozy"
      },
      "execution_count": 2,
      "outputs": []
    },
    {
      "cell_type": "code",
      "source": [
        "X = df.iloc[: , 0:60]\n",
        "y = df.iloc[:,60]"
      ],
      "metadata": {
        "id": "HiaZJ_rtGbTE"
      },
      "execution_count": 3,
      "outputs": []
    },
    {
      "cell_type": "code",
      "source": [
        "df[60].value_counts()"
      ],
      "metadata": {
        "colab": {
          "base_uri": "https://localhost:8080/"
        },
        "id": "lyX8wNqIGih0",
        "outputId": "0997d2c3-1465-4edf-ddc5-9d620a53160a"
      },
      "execution_count": 6,
      "outputs": [
        {
          "output_type": "execute_result",
          "data": {
            "text/plain": [
              "1    111\n",
              "0     97\n",
              "Name: 60, dtype: int64"
            ]
          },
          "metadata": {},
          "execution_count": 6
        }
      ]
    },
    {
      "cell_type": "code",
      "source": [
        "from tensorflow.keras.models import Sequential\n",
        "from tensorflow.keras.layers import Dense"
      ],
      "metadata": {
        "id": "XGFEq5DNGjGR"
      },
      "execution_count": 7,
      "outputs": []
    },
    {
      "cell_type": "code",
      "source": [
        "model = Sequential()\n",
        "model.add(Dense(24, input_dim=60, activation='relu'))\n",
        "model.add(Dense(10, activation='relu'))\n",
        "model.add(Dense(1, activation='sigmoid'))"
      ],
      "metadata": {
        "id": "_dvBBvYtHKow"
      },
      "execution_count": 8,
      "outputs": []
    },
    {
      "cell_type": "code",
      "source": [
        "model.compile(loss='binary_crossentropy', optimizer='adam', metrics=['accuracy'])"
      ],
      "metadata": {
        "id": "VhA1-zyyHdGE"
      },
      "execution_count": 9,
      "outputs": []
    },
    {
      "cell_type": "code",
      "source": [
        "model.fit(X, y, epochs=200, batch_size=10)"
      ],
      "metadata": {
        "colab": {
          "base_uri": "https://localhost:8080/"
        },
        "id": "aRnxJ5IKHrDM",
        "outputId": "72b0b197-ad96-4814-a111-fa5b97aa0b4f"
      },
      "execution_count": 10,
      "outputs": [
        {
          "output_type": "stream",
          "name": "stdout",
          "text": [
            "Epoch 1/200\n",
            "21/21 [==============================] - 1s 4ms/step - loss: 0.6843 - accuracy: 0.5337\n",
            "Epoch 2/200\n",
            "21/21 [==============================] - 0s 4ms/step - loss: 0.6700 - accuracy: 0.5337\n",
            "Epoch 3/200\n",
            "21/21 [==============================] - 0s 4ms/step - loss: 0.6561 - accuracy: 0.5577\n",
            "Epoch 4/200\n",
            "21/21 [==============================] - 0s 4ms/step - loss: 0.6424 - accuracy: 0.6683\n",
            "Epoch 5/200\n",
            "21/21 [==============================] - 0s 4ms/step - loss: 0.6255 - accuracy: 0.6683\n",
            "Epoch 6/200\n",
            "21/21 [==============================] - 0s 5ms/step - loss: 0.6055 - accuracy: 0.6971\n",
            "Epoch 7/200\n",
            "21/21 [==============================] - 0s 5ms/step - loss: 0.5874 - accuracy: 0.7115\n",
            "Epoch 8/200\n",
            "21/21 [==============================] - 0s 4ms/step - loss: 0.5625 - accuracy: 0.7356\n",
            "Epoch 9/200\n",
            "21/21 [==============================] - 0s 3ms/step - loss: 0.5443 - accuracy: 0.7212\n",
            "Epoch 10/200\n",
            "21/21 [==============================] - 0s 4ms/step - loss: 0.5271 - accuracy: 0.7692\n",
            "Epoch 11/200\n",
            "21/21 [==============================] - 0s 4ms/step - loss: 0.5083 - accuracy: 0.8077\n",
            "Epoch 12/200\n",
            "21/21 [==============================] - 0s 4ms/step - loss: 0.4848 - accuracy: 0.7740\n",
            "Epoch 13/200\n",
            "21/21 [==============================] - 0s 3ms/step - loss: 0.4737 - accuracy: 0.7981\n",
            "Epoch 14/200\n",
            "21/21 [==============================] - 0s 4ms/step - loss: 0.4615 - accuracy: 0.8125\n",
            "Epoch 15/200\n",
            "21/21 [==============================] - 0s 4ms/step - loss: 0.4473 - accuracy: 0.8173\n",
            "Epoch 16/200\n",
            "21/21 [==============================] - 0s 4ms/step - loss: 0.4380 - accuracy: 0.8173\n",
            "Epoch 17/200\n",
            "21/21 [==============================] - 0s 4ms/step - loss: 0.4274 - accuracy: 0.8077\n",
            "Epoch 18/200\n",
            "21/21 [==============================] - 0s 4ms/step - loss: 0.4191 - accuracy: 0.8269\n",
            "Epoch 19/200\n",
            "21/21 [==============================] - 0s 4ms/step - loss: 0.4108 - accuracy: 0.8510\n",
            "Epoch 20/200\n",
            "21/21 [==============================] - 0s 4ms/step - loss: 0.4042 - accuracy: 0.8173\n",
            "Epoch 21/200\n",
            "21/21 [==============================] - 0s 4ms/step - loss: 0.3936 - accuracy: 0.8317\n",
            "Epoch 22/200\n",
            "21/21 [==============================] - 0s 4ms/step - loss: 0.3900 - accuracy: 0.8558\n",
            "Epoch 23/200\n",
            "21/21 [==============================] - 0s 4ms/step - loss: 0.3738 - accuracy: 0.8558\n",
            "Epoch 24/200\n",
            "21/21 [==============================] - 0s 4ms/step - loss: 0.3932 - accuracy: 0.8029\n",
            "Epoch 25/200\n",
            "21/21 [==============================] - 0s 4ms/step - loss: 0.3671 - accuracy: 0.8702\n",
            "Epoch 26/200\n",
            "21/21 [==============================] - 0s 4ms/step - loss: 0.3597 - accuracy: 0.8702\n",
            "Epoch 27/200\n",
            "21/21 [==============================] - 0s 5ms/step - loss: 0.3556 - accuracy: 0.8798\n",
            "Epoch 28/200\n",
            "21/21 [==============================] - 0s 4ms/step - loss: 0.3422 - accuracy: 0.8846\n",
            "Epoch 29/200\n",
            "21/21 [==============================] - 0s 4ms/step - loss: 0.3407 - accuracy: 0.8846\n",
            "Epoch 30/200\n",
            "21/21 [==============================] - 0s 4ms/step - loss: 0.3294 - accuracy: 0.8990\n",
            "Epoch 31/200\n",
            "21/21 [==============================] - 0s 4ms/step - loss: 0.3303 - accuracy: 0.8702\n",
            "Epoch 32/200\n",
            "21/21 [==============================] - 0s 4ms/step - loss: 0.3178 - accuracy: 0.8894\n",
            "Epoch 33/200\n",
            "21/21 [==============================] - 0s 4ms/step - loss: 0.3101 - accuracy: 0.9038\n",
            "Epoch 34/200\n",
            "21/21 [==============================] - 0s 4ms/step - loss: 0.3031 - accuracy: 0.9087\n",
            "Epoch 35/200\n",
            "21/21 [==============================] - 0s 4ms/step - loss: 0.3026 - accuracy: 0.8798\n",
            "Epoch 36/200\n",
            "21/21 [==============================] - 0s 4ms/step - loss: 0.3123 - accuracy: 0.8894\n",
            "Epoch 37/200\n",
            "21/21 [==============================] - 0s 4ms/step - loss: 0.2920 - accuracy: 0.9231\n",
            "Epoch 38/200\n",
            "21/21 [==============================] - 0s 4ms/step - loss: 0.2932 - accuracy: 0.8894\n",
            "Epoch 39/200\n",
            "21/21 [==============================] - 0s 4ms/step - loss: 0.2788 - accuracy: 0.9231\n",
            "Epoch 40/200\n",
            "21/21 [==============================] - 0s 4ms/step - loss: 0.2704 - accuracy: 0.9279\n",
            "Epoch 41/200\n",
            "21/21 [==============================] - 0s 5ms/step - loss: 0.2666 - accuracy: 0.9279\n",
            "Epoch 42/200\n",
            "21/21 [==============================] - 0s 4ms/step - loss: 0.2643 - accuracy: 0.9135\n",
            "Epoch 43/200\n",
            "21/21 [==============================] - 0s 3ms/step - loss: 0.2655 - accuracy: 0.9038\n",
            "Epoch 44/200\n",
            "21/21 [==============================] - 0s 3ms/step - loss: 0.2500 - accuracy: 0.9135\n",
            "Epoch 45/200\n",
            "21/21 [==============================] - 0s 4ms/step - loss: 0.2500 - accuracy: 0.9231\n",
            "Epoch 46/200\n",
            "21/21 [==============================] - 0s 3ms/step - loss: 0.2405 - accuracy: 0.9327\n",
            "Epoch 47/200\n",
            "21/21 [==============================] - 0s 3ms/step - loss: 0.2431 - accuracy: 0.9135\n",
            "Epoch 48/200\n",
            "21/21 [==============================] - 0s 3ms/step - loss: 0.2342 - accuracy: 0.9279\n",
            "Epoch 49/200\n",
            "21/21 [==============================] - 0s 4ms/step - loss: 0.2291 - accuracy: 0.9375\n",
            "Epoch 50/200\n",
            "21/21 [==============================] - 0s 4ms/step - loss: 0.2329 - accuracy: 0.9375\n",
            "Epoch 51/200\n",
            "21/21 [==============================] - 0s 3ms/step - loss: 0.2227 - accuracy: 0.9327\n",
            "Epoch 52/200\n",
            "21/21 [==============================] - 0s 4ms/step - loss: 0.2175 - accuracy: 0.9423\n",
            "Epoch 53/200\n",
            "21/21 [==============================] - 0s 3ms/step - loss: 0.2134 - accuracy: 0.9375\n",
            "Epoch 54/200\n",
            "21/21 [==============================] - 0s 3ms/step - loss: 0.2055 - accuracy: 0.9423\n",
            "Epoch 55/200\n",
            "21/21 [==============================] - 0s 3ms/step - loss: 0.2023 - accuracy: 0.9471\n",
            "Epoch 56/200\n",
            "21/21 [==============================] - 0s 3ms/step - loss: 0.1982 - accuracy: 0.9375\n",
            "Epoch 57/200\n",
            "21/21 [==============================] - 0s 3ms/step - loss: 0.2225 - accuracy: 0.9087\n",
            "Epoch 58/200\n",
            "21/21 [==============================] - 0s 3ms/step - loss: 0.2165 - accuracy: 0.9135\n",
            "Epoch 59/200\n",
            "21/21 [==============================] - 0s 3ms/step - loss: 0.1929 - accuracy: 0.9375\n",
            "Epoch 60/200\n",
            "21/21 [==============================] - 0s 3ms/step - loss: 0.1833 - accuracy: 0.9423\n",
            "Epoch 61/200\n",
            "21/21 [==============================] - 0s 4ms/step - loss: 0.1867 - accuracy: 0.9423\n",
            "Epoch 62/200\n",
            "21/21 [==============================] - 0s 3ms/step - loss: 0.1893 - accuracy: 0.9231\n",
            "Epoch 63/200\n",
            "21/21 [==============================] - 0s 3ms/step - loss: 0.1776 - accuracy: 0.9423\n",
            "Epoch 64/200\n",
            "21/21 [==============================] - 0s 4ms/step - loss: 0.1681 - accuracy: 0.9471\n",
            "Epoch 65/200\n",
            "21/21 [==============================] - 0s 4ms/step - loss: 0.1631 - accuracy: 0.9519\n",
            "Epoch 66/200\n",
            "21/21 [==============================] - 0s 3ms/step - loss: 0.1637 - accuracy: 0.9519\n",
            "Epoch 67/200\n",
            "21/21 [==============================] - 0s 3ms/step - loss: 0.1612 - accuracy: 0.9519\n",
            "Epoch 68/200\n",
            "21/21 [==============================] - 0s 3ms/step - loss: 0.1562 - accuracy: 0.9519\n",
            "Epoch 69/200\n",
            "21/21 [==============================] - 0s 3ms/step - loss: 0.1591 - accuracy: 0.9423\n",
            "Epoch 70/200\n",
            "21/21 [==============================] - 0s 3ms/step - loss: 0.1709 - accuracy: 0.9471\n",
            "Epoch 71/200\n",
            "21/21 [==============================] - 0s 3ms/step - loss: 0.1466 - accuracy: 0.9567\n",
            "Epoch 72/200\n",
            "21/21 [==============================] - 0s 4ms/step - loss: 0.1442 - accuracy: 0.9519\n",
            "Epoch 73/200\n",
            "21/21 [==============================] - 0s 3ms/step - loss: 0.1387 - accuracy: 0.9760\n",
            "Epoch 74/200\n",
            "21/21 [==============================] - 0s 3ms/step - loss: 0.1404 - accuracy: 0.9615\n",
            "Epoch 75/200\n",
            "21/21 [==============================] - 0s 3ms/step - loss: 0.1473 - accuracy: 0.9519\n",
            "Epoch 76/200\n",
            "21/21 [==============================] - 0s 3ms/step - loss: 0.1376 - accuracy: 0.9567\n",
            "Epoch 77/200\n",
            "21/21 [==============================] - 0s 4ms/step - loss: 0.1272 - accuracy: 0.9663\n",
            "Epoch 78/200\n",
            "21/21 [==============================] - 0s 4ms/step - loss: 0.1227 - accuracy: 0.9712\n",
            "Epoch 79/200\n",
            "21/21 [==============================] - 0s 4ms/step - loss: 0.1243 - accuracy: 0.9712\n",
            "Epoch 80/200\n",
            "21/21 [==============================] - 0s 3ms/step - loss: 0.1192 - accuracy: 0.9663\n",
            "Epoch 81/200\n",
            "21/21 [==============================] - 0s 3ms/step - loss: 0.1175 - accuracy: 0.9712\n",
            "Epoch 82/200\n",
            "21/21 [==============================] - 0s 4ms/step - loss: 0.1196 - accuracy: 0.9760\n",
            "Epoch 83/200\n",
            "21/21 [==============================] - 0s 3ms/step - loss: 0.1143 - accuracy: 0.9663\n",
            "Epoch 84/200\n",
            "21/21 [==============================] - 0s 4ms/step - loss: 0.1066 - accuracy: 0.9712\n",
            "Epoch 85/200\n",
            "21/21 [==============================] - 0s 4ms/step - loss: 0.1103 - accuracy: 0.9760\n",
            "Epoch 86/200\n",
            "21/21 [==============================] - 0s 5ms/step - loss: 0.1030 - accuracy: 0.9760\n",
            "Epoch 87/200\n",
            "21/21 [==============================] - 0s 4ms/step - loss: 0.1021 - accuracy: 0.9760\n",
            "Epoch 88/200\n",
            "21/21 [==============================] - 0s 4ms/step - loss: 0.1007 - accuracy: 0.9760\n",
            "Epoch 89/200\n",
            "21/21 [==============================] - 0s 6ms/step - loss: 0.0968 - accuracy: 0.9808\n",
            "Epoch 90/200\n",
            "21/21 [==============================] - 0s 4ms/step - loss: 0.0968 - accuracy: 0.9856\n",
            "Epoch 91/200\n",
            "21/21 [==============================] - 0s 4ms/step - loss: 0.1159 - accuracy: 0.9615\n",
            "Epoch 92/200\n",
            "21/21 [==============================] - 0s 4ms/step - loss: 0.0891 - accuracy: 0.9808\n",
            "Epoch 93/200\n",
            "21/21 [==============================] - 0s 3ms/step - loss: 0.0848 - accuracy: 0.9904\n",
            "Epoch 94/200\n",
            "21/21 [==============================] - 0s 3ms/step - loss: 0.0867 - accuracy: 0.9856\n",
            "Epoch 95/200\n",
            "21/21 [==============================] - 0s 4ms/step - loss: 0.0830 - accuracy: 0.9808\n",
            "Epoch 96/200\n",
            "21/21 [==============================] - 0s 4ms/step - loss: 0.0805 - accuracy: 0.9856\n",
            "Epoch 97/200\n",
            "21/21 [==============================] - 0s 4ms/step - loss: 0.0785 - accuracy: 0.9856\n",
            "Epoch 98/200\n",
            "21/21 [==============================] - 0s 4ms/step - loss: 0.0757 - accuracy: 0.9904\n",
            "Epoch 99/200\n",
            "21/21 [==============================] - 0s 4ms/step - loss: 0.0743 - accuracy: 0.9904\n",
            "Epoch 100/200\n",
            "21/21 [==============================] - 0s 4ms/step - loss: 0.0702 - accuracy: 0.9904\n",
            "Epoch 101/200\n",
            "21/21 [==============================] - 0s 4ms/step - loss: 0.0767 - accuracy: 0.9856\n",
            "Epoch 102/200\n",
            "21/21 [==============================] - 0s 4ms/step - loss: 0.0740 - accuracy: 0.9856\n",
            "Epoch 103/200\n",
            "21/21 [==============================] - 0s 4ms/step - loss: 0.0671 - accuracy: 0.9904\n",
            "Epoch 104/200\n",
            "21/21 [==============================] - 0s 4ms/step - loss: 0.0636 - accuracy: 0.9904\n",
            "Epoch 105/200\n",
            "21/21 [==============================] - 0s 4ms/step - loss: 0.0630 - accuracy: 0.9904\n",
            "Epoch 106/200\n",
            "21/21 [==============================] - 0s 4ms/step - loss: 0.0608 - accuracy: 0.9904\n",
            "Epoch 107/200\n",
            "21/21 [==============================] - 0s 4ms/step - loss: 0.0625 - accuracy: 0.9904\n",
            "Epoch 108/200\n",
            "21/21 [==============================] - 0s 4ms/step - loss: 0.0632 - accuracy: 0.9952\n",
            "Epoch 109/200\n",
            "21/21 [==============================] - 0s 4ms/step - loss: 0.0608 - accuracy: 0.9952\n",
            "Epoch 110/200\n",
            "21/21 [==============================] - 0s 3ms/step - loss: 0.0582 - accuracy: 0.9856\n",
            "Epoch 111/200\n",
            "21/21 [==============================] - 0s 4ms/step - loss: 0.0607 - accuracy: 0.9856\n",
            "Epoch 112/200\n",
            "21/21 [==============================] - 0s 3ms/step - loss: 0.0544 - accuracy: 0.9904\n",
            "Epoch 113/200\n",
            "21/21 [==============================] - 0s 4ms/step - loss: 0.0528 - accuracy: 0.9856\n",
            "Epoch 114/200\n",
            "21/21 [==============================] - 0s 4ms/step - loss: 0.0478 - accuracy: 0.9952\n",
            "Epoch 115/200\n",
            "21/21 [==============================] - 0s 4ms/step - loss: 0.0464 - accuracy: 0.9952\n",
            "Epoch 116/200\n",
            "21/21 [==============================] - 0s 4ms/step - loss: 0.0475 - accuracy: 0.9952\n",
            "Epoch 117/200\n",
            "21/21 [==============================] - 0s 4ms/step - loss: 0.0460 - accuracy: 1.0000\n",
            "Epoch 118/200\n",
            "21/21 [==============================] - 0s 4ms/step - loss: 0.0447 - accuracy: 1.0000\n",
            "Epoch 119/200\n",
            "21/21 [==============================] - 0s 3ms/step - loss: 0.0448 - accuracy: 1.0000\n",
            "Epoch 120/200\n",
            "21/21 [==============================] - 0s 4ms/step - loss: 0.0391 - accuracy: 1.0000\n",
            "Epoch 121/200\n",
            "21/21 [==============================] - 0s 4ms/step - loss: 0.0384 - accuracy: 1.0000\n",
            "Epoch 122/200\n",
            "21/21 [==============================] - 0s 3ms/step - loss: 0.0412 - accuracy: 1.0000\n",
            "Epoch 123/200\n",
            "21/21 [==============================] - 0s 4ms/step - loss: 0.0368 - accuracy: 1.0000\n",
            "Epoch 124/200\n",
            "21/21 [==============================] - 0s 4ms/step - loss: 0.0359 - accuracy: 1.0000\n",
            "Epoch 125/200\n",
            "21/21 [==============================] - 0s 4ms/step - loss: 0.0423 - accuracy: 1.0000\n",
            "Epoch 126/200\n",
            "21/21 [==============================] - 0s 3ms/step - loss: 0.0347 - accuracy: 1.0000\n",
            "Epoch 127/200\n",
            "21/21 [==============================] - 0s 5ms/step - loss: 0.0351 - accuracy: 1.0000\n",
            "Epoch 128/200\n",
            "21/21 [==============================] - 0s 3ms/step - loss: 0.0358 - accuracy: 1.0000\n",
            "Epoch 129/200\n",
            "21/21 [==============================] - 0s 4ms/step - loss: 0.0318 - accuracy: 1.0000\n",
            "Epoch 130/200\n",
            "21/21 [==============================] - 0s 4ms/step - loss: 0.0304 - accuracy: 1.0000\n",
            "Epoch 131/200\n",
            "21/21 [==============================] - 0s 3ms/step - loss: 0.0335 - accuracy: 1.0000\n",
            "Epoch 132/200\n",
            "21/21 [==============================] - 0s 3ms/step - loss: 0.0297 - accuracy: 1.0000\n",
            "Epoch 133/200\n",
            "21/21 [==============================] - 0s 3ms/step - loss: 0.0295 - accuracy: 1.0000\n",
            "Epoch 134/200\n",
            "21/21 [==============================] - 0s 4ms/step - loss: 0.0311 - accuracy: 1.0000\n",
            "Epoch 135/200\n",
            "21/21 [==============================] - 0s 4ms/step - loss: 0.0309 - accuracy: 0.9952\n",
            "Epoch 136/200\n",
            "21/21 [==============================] - 0s 3ms/step - loss: 0.0275 - accuracy: 1.0000\n",
            "Epoch 137/200\n",
            "21/21 [==============================] - 0s 4ms/step - loss: 0.0258 - accuracy: 1.0000\n",
            "Epoch 138/200\n",
            "21/21 [==============================] - 0s 4ms/step - loss: 0.0251 - accuracy: 1.0000\n",
            "Epoch 139/200\n",
            "21/21 [==============================] - 0s 3ms/step - loss: 0.0241 - accuracy: 1.0000\n",
            "Epoch 140/200\n",
            "21/21 [==============================] - 0s 4ms/step - loss: 0.0233 - accuracy: 1.0000\n",
            "Epoch 141/200\n",
            "21/21 [==============================] - 0s 3ms/step - loss: 0.0241 - accuracy: 1.0000\n",
            "Epoch 142/200\n",
            "21/21 [==============================] - 0s 4ms/step - loss: 0.0218 - accuracy: 1.0000\n",
            "Epoch 143/200\n",
            "21/21 [==============================] - 0s 3ms/step - loss: 0.0226 - accuracy: 1.0000\n",
            "Epoch 144/200\n",
            "21/21 [==============================] - 0s 3ms/step - loss: 0.0205 - accuracy: 1.0000\n",
            "Epoch 145/200\n",
            "21/21 [==============================] - 0s 3ms/step - loss: 0.0203 - accuracy: 1.0000\n",
            "Epoch 146/200\n",
            "21/21 [==============================] - 0s 4ms/step - loss: 0.0212 - accuracy: 1.0000\n",
            "Epoch 147/200\n",
            "21/21 [==============================] - 0s 4ms/step - loss: 0.0208 - accuracy: 1.0000\n",
            "Epoch 148/200\n",
            "21/21 [==============================] - 0s 3ms/step - loss: 0.0185 - accuracy: 1.0000\n",
            "Epoch 149/200\n",
            "21/21 [==============================] - 0s 4ms/step - loss: 0.0198 - accuracy: 1.0000\n",
            "Epoch 150/200\n",
            "21/21 [==============================] - 0s 3ms/step - loss: 0.0193 - accuracy: 1.0000\n",
            "Epoch 151/200\n",
            "21/21 [==============================] - 0s 4ms/step - loss: 0.0172 - accuracy: 1.0000\n",
            "Epoch 152/200\n",
            "21/21 [==============================] - 0s 4ms/step - loss: 0.0169 - accuracy: 1.0000\n",
            "Epoch 153/200\n",
            "21/21 [==============================] - 0s 4ms/step - loss: 0.0167 - accuracy: 1.0000\n",
            "Epoch 154/200\n",
            "21/21 [==============================] - 0s 3ms/step - loss: 0.0190 - accuracy: 1.0000\n",
            "Epoch 155/200\n",
            "21/21 [==============================] - 0s 4ms/step - loss: 0.0157 - accuracy: 1.0000\n",
            "Epoch 156/200\n",
            "21/21 [==============================] - 0s 3ms/step - loss: 0.0162 - accuracy: 1.0000\n",
            "Epoch 157/200\n",
            "21/21 [==============================] - 0s 3ms/step - loss: 0.0157 - accuracy: 1.0000\n",
            "Epoch 158/200\n",
            "21/21 [==============================] - 0s 4ms/step - loss: 0.0176 - accuracy: 1.0000\n",
            "Epoch 159/200\n",
            "21/21 [==============================] - 0s 3ms/step - loss: 0.0144 - accuracy: 1.0000\n",
            "Epoch 160/200\n",
            "21/21 [==============================] - 0s 4ms/step - loss: 0.0138 - accuracy: 1.0000\n",
            "Epoch 161/200\n",
            "21/21 [==============================] - 0s 4ms/step - loss: 0.0134 - accuracy: 1.0000\n",
            "Epoch 162/200\n",
            "21/21 [==============================] - 0s 2ms/step - loss: 0.0133 - accuracy: 1.0000\n",
            "Epoch 163/200\n",
            "21/21 [==============================] - 0s 2ms/step - loss: 0.0139 - accuracy: 1.0000\n",
            "Epoch 164/200\n",
            "21/21 [==============================] - 0s 2ms/step - loss: 0.0127 - accuracy: 1.0000\n",
            "Epoch 165/200\n",
            "21/21 [==============================] - 0s 2ms/step - loss: 0.0125 - accuracy: 1.0000\n",
            "Epoch 166/200\n",
            "21/21 [==============================] - 0s 4ms/step - loss: 0.0129 - accuracy: 1.0000\n",
            "Epoch 167/200\n",
            "21/21 [==============================] - 0s 4ms/step - loss: 0.0114 - accuracy: 1.0000\n",
            "Epoch 168/200\n",
            "21/21 [==============================] - 0s 4ms/step - loss: 0.0115 - accuracy: 1.0000\n",
            "Epoch 169/200\n",
            "21/21 [==============================] - 0s 4ms/step - loss: 0.0114 - accuracy: 1.0000\n",
            "Epoch 170/200\n",
            "21/21 [==============================] - 0s 3ms/step - loss: 0.0109 - accuracy: 1.0000\n",
            "Epoch 171/200\n",
            "21/21 [==============================] - 0s 4ms/step - loss: 0.0108 - accuracy: 1.0000\n",
            "Epoch 172/200\n",
            "21/21 [==============================] - 0s 4ms/step - loss: 0.0109 - accuracy: 1.0000\n",
            "Epoch 173/200\n",
            "21/21 [==============================] - 0s 3ms/step - loss: 0.0099 - accuracy: 1.0000\n",
            "Epoch 174/200\n",
            "21/21 [==============================] - 0s 4ms/step - loss: 0.0094 - accuracy: 1.0000\n",
            "Epoch 175/200\n",
            "21/21 [==============================] - 0s 4ms/step - loss: 0.0099 - accuracy: 1.0000\n",
            "Epoch 176/200\n",
            "21/21 [==============================] - 0s 4ms/step - loss: 0.0091 - accuracy: 1.0000\n",
            "Epoch 177/200\n",
            "21/21 [==============================] - 0s 4ms/step - loss: 0.0092 - accuracy: 1.0000\n",
            "Epoch 178/200\n",
            "21/21 [==============================] - 0s 4ms/step - loss: 0.0093 - accuracy: 1.0000\n",
            "Epoch 179/200\n",
            "21/21 [==============================] - 0s 4ms/step - loss: 0.0090 - accuracy: 1.0000\n",
            "Epoch 180/200\n",
            "21/21 [==============================] - 0s 4ms/step - loss: 0.0086 - accuracy: 1.0000\n",
            "Epoch 181/200\n",
            "21/21 [==============================] - 0s 4ms/step - loss: 0.0089 - accuracy: 1.0000\n",
            "Epoch 182/200\n",
            "21/21 [==============================] - 0s 4ms/step - loss: 0.0095 - accuracy: 1.0000\n",
            "Epoch 183/200\n",
            "21/21 [==============================] - 0s 4ms/step - loss: 0.0084 - accuracy: 1.0000\n",
            "Epoch 184/200\n",
            "21/21 [==============================] - 0s 3ms/step - loss: 0.0079 - accuracy: 1.0000\n",
            "Epoch 185/200\n",
            "21/21 [==============================] - 0s 4ms/step - loss: 0.0076 - accuracy: 1.0000\n",
            "Epoch 186/200\n",
            "21/21 [==============================] - 0s 4ms/step - loss: 0.0076 - accuracy: 1.0000\n",
            "Epoch 187/200\n",
            "21/21 [==============================] - 0s 4ms/step - loss: 0.0076 - accuracy: 1.0000\n",
            "Epoch 188/200\n",
            "21/21 [==============================] - 0s 4ms/step - loss: 0.0073 - accuracy: 1.0000\n",
            "Epoch 189/200\n",
            "21/21 [==============================] - 0s 4ms/step - loss: 0.0073 - accuracy: 1.0000\n",
            "Epoch 190/200\n",
            "21/21 [==============================] - 0s 4ms/step - loss: 0.0067 - accuracy: 1.0000\n",
            "Epoch 191/200\n",
            "21/21 [==============================] - 0s 4ms/step - loss: 0.0066 - accuracy: 1.0000\n",
            "Epoch 192/200\n",
            "21/21 [==============================] - 0s 4ms/step - loss: 0.0077 - accuracy: 1.0000\n",
            "Epoch 193/200\n",
            "21/21 [==============================] - 0s 3ms/step - loss: 0.0071 - accuracy: 1.0000\n",
            "Epoch 194/200\n",
            "21/21 [==============================] - 0s 2ms/step - loss: 0.0063 - accuracy: 1.0000\n",
            "Epoch 195/200\n",
            "21/21 [==============================] - 0s 3ms/step - loss: 0.0067 - accuracy: 1.0000\n",
            "Epoch 196/200\n",
            "21/21 [==============================] - 0s 2ms/step - loss: 0.0060 - accuracy: 1.0000\n",
            "Epoch 197/200\n",
            "21/21 [==============================] - 0s 2ms/step - loss: 0.0059 - accuracy: 1.0000\n",
            "Epoch 198/200\n",
            "21/21 [==============================] - 0s 2ms/step - loss: 0.0059 - accuracy: 1.0000\n",
            "Epoch 199/200\n",
            "21/21 [==============================] - 0s 2ms/step - loss: 0.0057 - accuracy: 1.0000\n",
            "Epoch 200/200\n",
            "21/21 [==============================] - 0s 2ms/step - loss: 0.0056 - accuracy: 1.0000\n"
          ]
        },
        {
          "output_type": "execute_result",
          "data": {
            "text/plain": [
              "<keras.callbacks.History at 0x7f324763a690>"
            ]
          },
          "metadata": {},
          "execution_count": 10
        }
      ]
    },
    {
      "cell_type": "code",
      "source": [
        "from sklearn.model_selection import train_test_split\n",
        "\n",
        "X_train, X_test, y_train, y_test = train_test_split(X, y, test_size=0.3, shuffle=True)"
      ],
      "metadata": {
        "id": "irIzr5hFHxtn"
      },
      "execution_count": 11,
      "outputs": []
    },
    {
      "cell_type": "code",
      "source": [
        "score = model.evaluate(X_test, y_test)\n",
        "print('Test accuracy:', score[1])"
      ],
      "metadata": {
        "colab": {
          "base_uri": "https://localhost:8080/"
        },
        "id": "wDMwW8ZhXmNQ",
        "outputId": "ba57a55e-2b9b-49e4-c7a3-3a3668ba6c35"
      },
      "execution_count": 12,
      "outputs": [
        {
          "output_type": "stream",
          "name": "stdout",
          "text": [
            "2/2 [==============================] - 0s 9ms/step - loss: 0.0043 - accuracy: 1.0000\n",
            "Test accuracy: 1.0\n"
          ]
        }
      ]
    },
    {
      "cell_type": "code",
      "source": [
        "from tensorflow.keras.models import Sequential\n",
        "from tensorflow.keras.layers import Dense\n",
        "from sklearn.model_selection import KFold\n",
        "from sklearn.metrics import accuracy_score"
      ],
      "metadata": {
        "id": "4UfHo5-GXvNi"
      },
      "execution_count": 14,
      "outputs": []
    },
    {
      "cell_type": "code",
      "source": [
        "import pandas as pd\n",
        "\n",
        "df = pd.read_csv(\"./data/sonar3.csv\", header=None)"
      ],
      "metadata": {
        "id": "F9g2Bq0TX_d5"
      },
      "execution_count": 15,
      "outputs": []
    },
    {
      "cell_type": "code",
      "source": [
        "X = df.iloc[:, 0:60]\n",
        "y = df.iloc[:, 60]"
      ],
      "metadata": {
        "id": "4478bX3YYe_8"
      },
      "execution_count": 16,
      "outputs": []
    },
    {
      "cell_type": "code",
      "source": [
        "k = 5\n",
        "\n",
        "kfold = KFold(n_splits=k, shuffle=True)\n",
        "\n",
        "acc_score = []"
      ],
      "metadata": {
        "id": "DnOa-NjQYj48"
      },
      "execution_count": 17,
      "outputs": []
    },
    {
      "cell_type": "code",
      "source": [
        "def model_fn():\n",
        "    model = Sequential()\n",
        "    model.add(Dense(24, input_dim=60, activation='relu'))\n",
        "    model.add(Dense(10, activation='relu'))\n",
        "    model.add(Dense(1, activation='sigmoid'))\n",
        "    return model"
      ],
      "metadata": {
        "id": "Pf7ht57pYtYc"
      },
      "execution_count": 18,
      "outputs": []
    },
    {
      "cell_type": "code",
      "source": [
        "for train_index, test_index in kfold.split(X):\n",
        "    X_train, X_test = X.iloc[train_index, :], X.iloc[test_index,:]\n",
        "    y_train, y_test = y.iloc[train_index], y.iloc[test_index]\n",
        "\n",
        "    model = model_fn()\n",
        "    model.compile(loss='binary_crossentropy', optimizer='adam', metrics=['accuracy'])\n",
        "    history = model.fit(X_train, y_train, epochs=200, batch_size=10, verbose=0)\n",
        "\n",
        "    accuracy = model.evaluate(X_test, y_test)[1]\n",
        "    acc_score.append(accuracy)"
      ],
      "metadata": {
        "colab": {
          "base_uri": "https://localhost:8080/"
        },
        "id": "JEXM41vEY7H6",
        "outputId": "3a5ee0f5-0aef-427b-b99f-541ff96ff105"
      },
      "execution_count": 19,
      "outputs": [
        {
          "output_type": "stream",
          "name": "stdout",
          "text": [
            "2/2 [==============================] - 0s 8ms/step - loss: 0.6230 - accuracy: 0.8571\n",
            "2/2 [==============================] - 0s 9ms/step - loss: 0.2667 - accuracy: 0.8571\n",
            "2/2 [==============================] - 0s 14ms/step - loss: 0.1743 - accuracy: 0.9286\n"
          ]
        },
        {
          "output_type": "stream",
          "name": "stderr",
          "text": [
            "WARNING:tensorflow:5 out of the last 9 calls to <function Model.make_test_function.<locals>.test_function at 0x7f323c8f30e0> triggered tf.function retracing. Tracing is expensive and the excessive number of tracings could be due to (1) creating @tf.function repeatedly in a loop, (2) passing tensors with different shapes, (3) passing Python objects instead of tensors. For (1), please define your @tf.function outside of the loop. For (2), @tf.function has experimental_relax_shapes=True option that relaxes argument shapes that can avoid unnecessary retracing. For (3), please refer to https://www.tensorflow.org/guide/function#controlling_retracing and https://www.tensorflow.org/api_docs/python/tf/function for  more details.\n"
          ]
        },
        {
          "output_type": "stream",
          "name": "stdout",
          "text": [
            "2/2 [==============================] - 0s 12ms/step - loss: 0.8099 - accuracy: 0.8049\n"
          ]
        },
        {
          "output_type": "stream",
          "name": "stderr",
          "text": [
            "WARNING:tensorflow:6 out of the last 11 calls to <function Model.make_test_function.<locals>.test_function at 0x7f323c773cb0> triggered tf.function retracing. Tracing is expensive and the excessive number of tracings could be due to (1) creating @tf.function repeatedly in a loop, (2) passing tensors with different shapes, (3) passing Python objects instead of tensors. For (1), please define your @tf.function outside of the loop. For (2), @tf.function has experimental_relax_shapes=True option that relaxes argument shapes that can avoid unnecessary retracing. For (3), please refer to https://www.tensorflow.org/guide/function#controlling_retracing and https://www.tensorflow.org/api_docs/python/tf/function for  more details.\n"
          ]
        },
        {
          "output_type": "stream",
          "name": "stdout",
          "text": [
            "2/2 [==============================] - 0s 10ms/step - loss: 0.9364 - accuracy: 0.8049\n"
          ]
        }
      ]
    },
    {
      "cell_type": "code",
      "source": [
        "avg_acc_score = sum(acc_score) / k"
      ],
      "metadata": {
        "id": "t6NTtA1WZws6"
      },
      "execution_count": 20,
      "outputs": []
    },
    {
      "cell_type": "code",
      "source": [
        "print('정확도: ', acc_score)\n",
        "print('정확도 평균: ', avg_acc_score)"
      ],
      "metadata": {
        "colab": {
          "base_uri": "https://localhost:8080/"
        },
        "id": "NZncKgxPZ1Qi",
        "outputId": "131f9127-cf46-4725-eef4-439a27952dd5"
      },
      "execution_count": 21,
      "outputs": [
        {
          "output_type": "stream",
          "name": "stdout",
          "text": [
            "정확도:  [0.8571428656578064, 0.8571428656578064, 0.9285714030265808, 0.8048780560493469, 0.8048780560493469]\n",
            "정확도 평균:  0.8505226492881774\n"
          ]
        }
      ]
    },
    {
      "cell_type": "code",
      "source": [
        ""
      ],
      "metadata": {
        "id": "Ziw0p7O-Z9AU"
      },
      "execution_count": null,
      "outputs": []
    }
  ]
}