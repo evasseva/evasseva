{
  "nbformat": 4,
  "nbformat_minor": 0,
  "metadata": {
    "colab": {
      "name": "1st CNN.ipynb",
      "provenance": [],
      "authorship_tag": "ABX9TyOublHBp/VtvC1pWOseyw9D",
      "include_colab_link": true
    },
    "kernelspec": {
      "name": "python3",
      "display_name": "Python 3"
    },
    "language_info": {
      "name": "python"
    }
  },
  "cells": [
    {
      "cell_type": "markdown",
      "metadata": {
        "id": "view-in-github",
        "colab_type": "text"
      },
      "source": [
        "<a href=\"https://colab.research.google.com/github/evasseva/evasseva/blob/main/1st_CNN.ipynb\" target=\"_parent\"><img src=\"https://colab.research.google.com/assets/colab-badge.svg\" alt=\"Open In Colab\"/></a>"
      ]
    },
    {
      "cell_type": "code",
      "execution_count": 1,
      "metadata": {
        "id": "lGxoeYRzeMUn"
      },
      "outputs": [],
      "source": [
        "from tensorflow.keras.models import Sequential\n",
        "from tensorflow.keras.layers import Dense, Dropout, Flatten, Conv2D, MaxPooling2D\n",
        "from tensorflow.keras.callbacks import ModelCheckpoint, EarlyStopping\n",
        "from tensorflow.keras.datasets import mnist\n",
        "from tensorflow.keras.utils import to_categorical\n",
        "\n",
        "import matplotlib.pyplot as plt\n",
        "import numpy as np"
      ]
    },
    {
      "cell_type": "code",
      "source": [
        "(X_train, y_train), (X_test, y_test) = mnist.load_data()\n",
        "X_train = X_train.reshape(X_train.shape[0], 28, 28, 1).astype('float32') / 255\n",
        "X_test = X_test.reshape(X_test.shape[0], 28, 28, 1).astype('float32') / 255\n",
        "y_train = to_categorical(y_train)\n",
        "y_test = to_categorical(y_test)"
      ],
      "metadata": {
        "colab": {
          "base_uri": "https://localhost:8080/"
        },
        "id": "d1SMyaaFfP2O",
        "outputId": "b3da8dac-edec-4946-e79b-31949f1fe392"
      },
      "execution_count": 2,
      "outputs": [
        {
          "output_type": "stream",
          "name": "stdout",
          "text": [
            "Downloading data from https://storage.googleapis.com/tensorflow/tf-keras-datasets/mnist.npz\n",
            "11493376/11490434 [==============================] - 0s 0us/step\n",
            "11501568/11490434 [==============================] - 0s 0us/step\n"
          ]
        }
      ]
    },
    {
      "cell_type": "code",
      "source": [
        "model = Sequential()\n",
        "model.add(Conv2D(32, kernel_size=(3,3), input_shape=(28, 28, 1), activation='relu'))\n",
        "model.add(Conv2D(64, (3,3), activation='relu'))\n",
        "model.add(MaxPooling2D(pool_size=(2,2)))\n",
        "model.add(Dropout(0.25))\n",
        "model.add(Flatten())\n",
        "model.add(Dense(128, activation='relu'))\n",
        "model.add(Dropout(0.5))\n",
        "model.add(Dense(10, activation='softmax'))"
      ],
      "metadata": {
        "id": "mXv9ZMzufzkq"
      },
      "execution_count": 3,
      "outputs": []
    },
    {
      "cell_type": "code",
      "source": [
        "model.compile(loss='categorical_crossentropy', optimizer='adam', metrics=['accuracy'])"
      ],
      "metadata": {
        "id": "ohnr3pDmgkM5"
      },
      "execution_count": 4,
      "outputs": []
    },
    {
      "cell_type": "code",
      "source": [
        "modelpath = \"./MNIST_CNN.hdf5\"\n",
        "checkpointer = ModelCheckpoint(filepath=modelpath, monitor='val_loss', verbose=1, save_best_only=True)\n",
        "early_stopping_callback = EarlyStopping(monitor='val_loss', patience=10)"
      ],
      "metadata": {
        "id": "aVTZYxiagtZN"
      },
      "execution_count": 5,
      "outputs": []
    },
    {
      "cell_type": "code",
      "source": [
        "history = model.fit(X_train, y_train, validation_split=0.25, epochs=30, batch_size=200, verbose=0, callbacks=[early_stopping_callback, checkpointer])"
      ],
      "metadata": {
        "colab": {
          "base_uri": "https://localhost:8080/"
        },
        "id": "u9fAWC4LhJO6",
        "outputId": "7d2f9f99-52d3-4d71-9c98-27b098ec675c"
      },
      "execution_count": 6,
      "outputs": [
        {
          "output_type": "stream",
          "name": "stdout",
          "text": [
            "\n",
            "Epoch 1: val_loss improved from inf to 0.07932, saving model to ./MNIST_CNN.hdf5\n",
            "\n",
            "Epoch 2: val_loss improved from 0.07932 to 0.06038, saving model to ./MNIST_CNN.hdf5\n",
            "\n",
            "Epoch 3: val_loss improved from 0.06038 to 0.04912, saving model to ./MNIST_CNN.hdf5\n",
            "\n",
            "Epoch 4: val_loss improved from 0.04912 to 0.04371, saving model to ./MNIST_CNN.hdf5\n",
            "\n",
            "Epoch 5: val_loss improved from 0.04371 to 0.04239, saving model to ./MNIST_CNN.hdf5\n",
            "\n",
            "Epoch 6: val_loss did not improve from 0.04239\n",
            "\n",
            "Epoch 7: val_loss improved from 0.04239 to 0.03976, saving model to ./MNIST_CNN.hdf5\n",
            "\n",
            "Epoch 8: val_loss improved from 0.03976 to 0.03950, saving model to ./MNIST_CNN.hdf5\n",
            "\n",
            "Epoch 9: val_loss did not improve from 0.03950\n",
            "\n",
            "Epoch 10: val_loss did not improve from 0.03950\n",
            "\n",
            "Epoch 11: val_loss did not improve from 0.03950\n",
            "\n",
            "Epoch 12: val_loss improved from 0.03950 to 0.03748, saving model to ./MNIST_CNN.hdf5\n",
            "\n",
            "Epoch 13: val_loss did not improve from 0.03748\n",
            "\n",
            "Epoch 14: val_loss did not improve from 0.03748\n",
            "\n",
            "Epoch 15: val_loss did not improve from 0.03748\n",
            "\n",
            "Epoch 16: val_loss improved from 0.03748 to 0.03727, saving model to ./MNIST_CNN.hdf5\n",
            "\n",
            "Epoch 17: val_loss did not improve from 0.03727\n",
            "\n",
            "Epoch 18: val_loss did not improve from 0.03727\n",
            "\n",
            "Epoch 19: val_loss did not improve from 0.03727\n",
            "\n",
            "Epoch 20: val_loss did not improve from 0.03727\n",
            "\n",
            "Epoch 21: val_loss did not improve from 0.03727\n",
            "\n",
            "Epoch 22: val_loss did not improve from 0.03727\n",
            "\n",
            "Epoch 23: val_loss did not improve from 0.03727\n",
            "\n",
            "Epoch 24: val_loss did not improve from 0.03727\n",
            "\n",
            "Epoch 25: val_loss did not improve from 0.03727\n",
            "\n",
            "Epoch 26: val_loss did not improve from 0.03727\n"
          ]
        }
      ]
    },
    {
      "cell_type": "code",
      "source": [
        "print(\"\\n Test Accuracy: %.4f\"%(model.evaluate(X_test, y_test)[1]))"
      ],
      "metadata": {
        "colab": {
          "base_uri": "https://localhost:8080/"
        },
        "id": "YZDtLvc4hePJ",
        "outputId": "d6b133c8-b477-4fd8-e356-2ba6de5ad794"
      },
      "execution_count": 7,
      "outputs": [
        {
          "output_type": "stream",
          "name": "stdout",
          "text": [
            "313/313 [==============================] - 7s 22ms/step - loss: 0.0310 - accuracy: 0.9924\n",
            "\n",
            " Test Accuracy: 0.9924\n"
          ]
        }
      ]
    },
    {
      "cell_type": "code",
      "source": [
        "y_vloss = history.history['val_loss']\n",
        "y_loss = history.history['loss']\n",
        "\n",
        "x_len = np.arange(len(y_loss))\n",
        "plt.plot(x_len, y_vloss, marker='.', c=\"red\", label='Testset_loss')\n",
        "plt.plot(x_len, y_loss, marker='.', c=\"blue\", label='Trainset_loss')\n",
        "\n",
        "plt.legend(loc='upper right')\n",
        "plt.grid()\n",
        "plt.xlabel('epoch')\n",
        "plt.ylabel('loss')\n",
        "plt.show()"
      ],
      "metadata": {
        "colab": {
          "base_uri": "https://localhost:8080/",
          "height": 279
        },
        "id": "Hcj5q7E4hpfS",
        "outputId": "b59ef443-d1e6-4c87-c751-dfc71c396aa0"
      },
      "execution_count": 11,
      "outputs": [
        {
          "output_type": "display_data",
          "data": {
            "text/plain": [
              "<Figure size 432x288 with 1 Axes>"
            ],
            "image/png": "[encoded data removed]"
          },
          "metadata": {
            "needs_background": "light"
          }
        }
      ]
    },
    {
      "cell_type": "code",
      "source": [
        ""
      ],
      "metadata": {
        "id": "BOyekAFbiMzp"
      },
      "execution_count": null,
      "outputs": []
    }
  ]
}