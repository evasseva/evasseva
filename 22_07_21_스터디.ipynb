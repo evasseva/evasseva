{
  "nbformat": 4,
  "nbformat_minor": 0,
  "metadata": {
    "colab": {
      "name": "22-07-21 스터디.ipynb",
      "provenance": [],
      "authorship_tag": "ABX9TyNTThC36x6P4voz3jYLddea",
      "include_colab_link": true
    },
    "kernelspec": {
      "name": "python3",
      "display_name": "Python 3"
    },
    "language_info": {
      "name": "python"
    }
  },
  "cells": [
    {
      "cell_type": "markdown",
      "metadata": {
        "id": "view-in-github",
        "colab_type": "text"
      },
      "source": [
        "<a href=\"https://colab.research.google.com/github/evasseva/evasseva/blob/main/22_07_21_%EC%8A%A4%ED%84%B0%EB%94%94.ipynb\" target=\"_parent\"><img src=\"https://colab.research.google.com/assets/colab-badge.svg\" alt=\"Open In Colab\"/></a>"
      ]
    },
    {
      "cell_type": "code",
      "execution_count": 1,
      "metadata": {
        "id": "gNdYy7B_dV0C"
      },
      "outputs": [],
      "source": [
        "# 백준 1026번 보물\n",
        "\n",
        "S = A[0] × B[0] + ... + A[N-1] × B[N-1]\n",
        "\n"
      ]
    },
    {
      "cell_type": "markdown",
      "source": [
        ""
      ],
      "metadata": {
        "id": "DirkXo-YmRL0"
      }
    },
    {
      "cell_type": "code",
      "source": [
        "# 정피라미드\n",
        "\n",
        "for i in range(1,11):\n",
        "    for j in range(1, i+1):\n",
        "        print(j, end=\" \")\n",
        "    print(\" \")"
      ],
      "metadata": {
        "colab": {
          "base_uri": "https://localhost:8080/"
        },
        "id": "zrPy6yJ-dbxs",
        "outputId": "469baff2-4558-401a-e83c-cebf3458f074"
      },
      "execution_count": 24,
      "outputs": [
        {
          "output_type": "stream",
          "name": "stdout",
          "text": [
            "1  \n",
            "1 2  \n",
            "1 2 3  \n",
            "1 2 3 4  \n",
            "1 2 3 4 5  \n",
            "1 2 3 4 5 6  \n",
            "1 2 3 4 5 6 7  \n",
            "1 2 3 4 5 6 7 8  \n",
            "1 2 3 4 5 6 7 8 9  \n",
            "1 2 3 4 5 6 7 8 9 10  \n"
          ]
        }
      ]
    },
    {
      "cell_type": "code",
      "source": [
        "# 역피라미드\n",
        "\n",
        "for i in range(10, 0, -1):\n",
        "    for j in range(i, 0, -1):\n",
        "        print(j, end=\" \")\n",
        "    print(\" \")"
      ],
      "metadata": {
        "colab": {
          "base_uri": "https://localhost:8080/"
        },
        "id": "-O3a4ixrddQl",
        "outputId": "510be108-2da6-47c5-8abc-6268e33b6b9a"
      },
      "execution_count": 31,
      "outputs": [
        {
          "output_type": "stream",
          "name": "stdout",
          "text": [
            "10 9 8 7 6 5 4 3 2 1  \n",
            "9 8 7 6 5 4 3 2 1  \n",
            "8 7 6 5 4 3 2 1  \n",
            "7 6 5 4 3 2 1  \n",
            "6 5 4 3 2 1  \n",
            "5 4 3 2 1  \n",
            "4 3 2 1  \n",
            "3 2 1  \n",
            "2 1  \n",
            "1  \n"
          ]
        }
      ]
    },
    {
      "cell_type": "code",
      "source": [
        "#스택\n",
        "\n",
        "s = []\n",
        "\n",
        "print(s.append(1))     #push: 출력되지 않음  - None\n",
        "s.append(2)\n",
        "s.append(3)\n",
        "s.append(4)\n",
        "\n",
        "print(s.pop())  #pop 출력\n",
        "s.pop()\n",
        "\n",
        "s.append(7)\n",
        "s.append(8)\n",
        "s.pop()\n",
        "s.append(9)\n",
        "\n",
        "print(s)    #전체 리스트 출력"
      ],
      "metadata": {
        "id": "Og40YfKWq9y5"
      },
      "execution_count": null,
      "outputs": []
    }
  ]
}