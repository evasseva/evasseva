{
  "nbformat": 4,
  "nbformat_minor": 0,
  "metadata": {
    "colab": {
      "name": "피마 인디언 당뇨병 예측.ipynb",
      "provenance": [],
      "collapsed_sections": [],
      "authorship_tag": "ABX9TyOnKj+dcJhyrYEAHldcaVOi",
      "include_colab_link": true
    },
    "kernelspec": {
      "name": "python3",
      "display_name": "Python 3"
    },
    "language_info": {
      "name": "python"
    }
  },
  "cells": [
    {
      "cell_type": "markdown",
      "metadata": {
        "id": "view-in-github",
        "colab_type": "text"
      },
      "source": [
        "<a href=\"https://colab.research.google.com/github/evasseva/evasseva/blob/main/%ED%94%BC%EB%A7%88_%EC%9D%B8%EB%94%94%EC%96%B8_%EB%8B%B9%EB%87%A8%EB%B3%91_%EC%98%88%EC%B8%A1.ipynb\" target=\"_parent\"><img src=\"https://colab.research.google.com/assets/colab-badge.svg\" alt=\"Open In Colab\"/></a>"
      ]
    },
    {
      "cell_type": "code",
      "execution_count": 1,
      "metadata": {
        "id": "SKJgQsSHQBZ0"
      },
      "outputs": [],
      "source": [
        "from tensorflow.keras.models import Sequential\n",
        "from tensorflow.keras.layers import Dense\n",
        "\n",
        "import pandas as pd"
      ]
    },
    {
      "cell_type": "code",
      "source": [
        "!git clone https://github.com/taehojo/data.git"
      ],
      "metadata": {
        "colab": {
          "base_uri": "https://localhost:8080/"
        },
        "id": "7HGtVzW4Qupi",
        "outputId": "0a7908b1-2606-44f6-e1e3-55a1ce4597db"
      },
      "execution_count": 2,
      "outputs": [
        {
          "output_type": "stream",
          "name": "stdout",
          "text": [
            "Cloning into 'data'...\n",
            "remote: Enumerating objects: 21, done.\u001b[K\n",
            "remote: Counting objects: 100% (21/21), done.\u001b[K\n",
            "remote: Compressing objects: 100% (18/18), done.\u001b[K\n",
            "remote: Total 21 (delta 3), reused 20 (delta 2), pack-reused 0\u001b[K\n",
            "Unpacking objects: 100% (21/21), done.\n"
          ]
        }
      ]
    },
    {
      "cell_type": "code",
      "source": [
        "df = pd.read_csv('./data/pima-indians-diabetes3.csv')"
      ],
      "metadata": {
        "id": "gcq1V6RMQ2MP"
      },
      "execution_count": 3,
      "outputs": []
    },
    {
      "cell_type": "code",
      "source": [
        "X = df.iloc[:,0:8]\n",
        "y = df.iloc[:,8]"
      ],
      "metadata": {
        "id": "ztPgqERAQ-G_"
      },
      "execution_count": 8,
      "outputs": []
    },
    {
      "cell_type": "code",
      "source": [
        "model = Sequential()\n",
        "model.add(Dense(12, input_dim=8, activation='relu', name='Dense_1'))\n",
        "model.add(Dense(8, activation='relu', name='Dense_2'))\n",
        "model.add(Dense(1, activation='sigmoid', name='Dense_3'))\n",
        "model.summary()"
      ],
      "metadata": {
        "colab": {
          "base_uri": "https://localhost:8080/"
        },
        "id": "J0VxM9Y2RIMi",
        "outputId": "78f3f46c-6804-4b8c-909e-cd0f25b59de6"
      },
      "execution_count": 9,
      "outputs": [
        {
          "output_type": "stream",
          "name": "stdout",
          "text": [
            "Model: \"sequential_1\"\n",
            "_________________________________________________________________\n",
            " Layer (type)                Output Shape              Param #   \n",
            "=================================================================\n",
            " Dense_1 (Dense)             (None, 12)                108       \n",
            "                                                                 \n",
            " Dense_2 (Dense)             (None, 8)                 104       \n",
            "                                                                 \n",
            " Dense_3 (Dense)             (None, 1)                 9         \n",
            "                                                                 \n",
            "=================================================================\n",
            "Total params: 221\n",
            "Trainable params: 221\n",
            "Non-trainable params: 0\n",
            "_________________________________________________________________\n"
          ]
        }
      ]
    },
    {
      "cell_type": "code",
      "source": [
        "model.compile(loss='binary_crossentropy', optimizer='adam', metrics=['accuracy'])"
      ],
      "metadata": {
        "id": "cFZR_jUIRqqS"
      },
      "execution_count": 10,
      "outputs": []
    },
    {
      "cell_type": "code",
      "source": [
        "history = model.fit(X, y, epochs=100, batch_size=5)"
      ],
      "metadata": {
        "colab": {
          "base_uri": "https://localhost:8080/"
        },
        "id": "-PbPOw-cR4bg",
        "outputId": "c64f5f17-f3e3-453c-9770-e405b01c4a01"
      },
      "execution_count": 11,
      "outputs": [
        {
          "output_type": "stream",
          "name": "stdout",
          "text": [
            "Epoch 1/100\n",
            "154/154 [==============================] - 1s 1ms/step - loss: 1.4354 - accuracy: 0.6120\n",
            "Epoch 2/100\n",
            "154/154 [==============================] - 0s 1ms/step - loss: 0.9555 - accuracy: 0.6576\n",
            "Epoch 3/100\n",
            "154/154 [==============================] - 0s 1ms/step - loss: 0.8354 - accuracy: 0.6484\n",
            "Epoch 4/100\n",
            "154/154 [==============================] - 0s 2ms/step - loss: 0.8298 - accuracy: 0.6393\n",
            "Epoch 5/100\n",
            "154/154 [==============================] - 0s 2ms/step - loss: 0.7631 - accuracy: 0.6589\n",
            "Epoch 6/100\n",
            "154/154 [==============================] - 0s 1ms/step - loss: 0.7455 - accuracy: 0.6510\n",
            "Epoch 7/100\n",
            "154/154 [==============================] - 0s 2ms/step - loss: 0.7177 - accuracy: 0.6693\n",
            "Epoch 8/100\n",
            "154/154 [==============================] - 0s 2ms/step - loss: 0.6635 - accuracy: 0.6654\n",
            "Epoch 9/100\n",
            "154/154 [==============================] - 0s 1ms/step - loss: 0.6480 - accuracy: 0.6680\n",
            "Epoch 10/100\n",
            "154/154 [==============================] - 0s 1ms/step - loss: 0.6551 - accuracy: 0.6719\n",
            "Epoch 11/100\n",
            "154/154 [==============================] - 0s 1ms/step - loss: 0.6520 - accuracy: 0.6745\n",
            "Epoch 12/100\n",
            "154/154 [==============================] - 0s 1ms/step - loss: 0.6490 - accuracy: 0.6602\n",
            "Epoch 13/100\n",
            "154/154 [==============================] - 0s 1ms/step - loss: 0.6436 - accuracy: 0.6576\n",
            "Epoch 14/100\n",
            "154/154 [==============================] - 0s 989us/step - loss: 0.6256 - accuracy: 0.6836\n",
            "Epoch 15/100\n",
            "154/154 [==============================] - 0s 1ms/step - loss: 0.6345 - accuracy: 0.6836\n",
            "Epoch 16/100\n",
            "154/154 [==============================] - 0s 1ms/step - loss: 0.6547 - accuracy: 0.6680\n",
            "Epoch 17/100\n",
            "154/154 [==============================] - 0s 2ms/step - loss: 0.6334 - accuracy: 0.6628\n",
            "Epoch 18/100\n",
            "154/154 [==============================] - 0s 1ms/step - loss: 0.6144 - accuracy: 0.6927\n",
            "Epoch 19/100\n",
            "154/154 [==============================] - 0s 1ms/step - loss: 0.6153 - accuracy: 0.6901\n",
            "Epoch 20/100\n",
            "154/154 [==============================] - 0s 3ms/step - loss: 0.6162 - accuracy: 0.6771\n",
            "Epoch 21/100\n",
            "154/154 [==============================] - 0s 1ms/step - loss: 0.6093 - accuracy: 0.6836\n",
            "Epoch 22/100\n",
            "154/154 [==============================] - 0s 973us/step - loss: 0.6110 - accuracy: 0.6849\n",
            "Epoch 23/100\n",
            "154/154 [==============================] - 0s 1ms/step - loss: 0.6109 - accuracy: 0.6966\n",
            "Epoch 24/100\n",
            "154/154 [==============================] - 0s 3ms/step - loss: 0.6207 - accuracy: 0.6797\n",
            "Epoch 25/100\n",
            "154/154 [==============================] - 0s 979us/step - loss: 0.6101 - accuracy: 0.6849\n",
            "Epoch 26/100\n",
            "154/154 [==============================] - 0s 1ms/step - loss: 0.6004 - accuracy: 0.6979\n",
            "Epoch 27/100\n",
            "154/154 [==============================] - 0s 1ms/step - loss: 0.6003 - accuracy: 0.6953\n",
            "Epoch 28/100\n",
            "154/154 [==============================] - 0s 1ms/step - loss: 0.6024 - accuracy: 0.6927\n",
            "Epoch 29/100\n",
            "154/154 [==============================] - 0s 1ms/step - loss: 0.5919 - accuracy: 0.7044\n",
            "Epoch 30/100\n",
            "154/154 [==============================] - 0s 1ms/step - loss: 0.5864 - accuracy: 0.7083\n",
            "Epoch 31/100\n",
            "154/154 [==============================] - 0s 1ms/step - loss: 0.5888 - accuracy: 0.7135\n",
            "Epoch 32/100\n",
            "154/154 [==============================] - 0s 1ms/step - loss: 0.6040 - accuracy: 0.7005\n",
            "Epoch 33/100\n",
            "154/154 [==============================] - 0s 1ms/step - loss: 0.5846 - accuracy: 0.6992\n",
            "Epoch 34/100\n",
            "154/154 [==============================] - 0s 986us/step - loss: 0.5892 - accuracy: 0.7122\n",
            "Epoch 35/100\n",
            "154/154 [==============================] - 0s 1ms/step - loss: 0.5969 - accuracy: 0.6992\n",
            "Epoch 36/100\n",
            "154/154 [==============================] - 0s 1ms/step - loss: 0.5966 - accuracy: 0.6953\n",
            "Epoch 37/100\n",
            "154/154 [==============================] - 0s 1ms/step - loss: 0.5883 - accuracy: 0.7214\n",
            "Epoch 38/100\n",
            "154/154 [==============================] - 0s 1ms/step - loss: 0.5731 - accuracy: 0.7109\n",
            "Epoch 39/100\n",
            "154/154 [==============================] - 0s 989us/step - loss: 0.5932 - accuracy: 0.7044\n",
            "Epoch 40/100\n",
            "154/154 [==============================] - 0s 1ms/step - loss: 0.5874 - accuracy: 0.7083\n",
            "Epoch 41/100\n",
            "154/154 [==============================] - 0s 981us/step - loss: 0.5841 - accuracy: 0.7057\n",
            "Epoch 42/100\n",
            "154/154 [==============================] - 0s 1ms/step - loss: 0.5774 - accuracy: 0.7070\n",
            "Epoch 43/100\n",
            "154/154 [==============================] - 0s 1ms/step - loss: 0.5783 - accuracy: 0.7122\n",
            "Epoch 44/100\n",
            "154/154 [==============================] - 0s 1ms/step - loss: 0.5856 - accuracy: 0.7057\n",
            "Epoch 45/100\n",
            "154/154 [==============================] - 0s 1ms/step - loss: 0.5777 - accuracy: 0.6979\n",
            "Epoch 46/100\n",
            "154/154 [==============================] - 0s 1ms/step - loss: 0.5618 - accuracy: 0.7122\n",
            "Epoch 47/100\n",
            "154/154 [==============================] - 0s 1ms/step - loss: 0.5606 - accuracy: 0.7083\n",
            "Epoch 48/100\n",
            "154/154 [==============================] - 0s 1ms/step - loss: 0.5793 - accuracy: 0.7096\n",
            "Epoch 49/100\n",
            "154/154 [==============================] - 0s 1ms/step - loss: 0.5798 - accuracy: 0.7109\n",
            "Epoch 50/100\n",
            "154/154 [==============================] - 0s 1ms/step - loss: 0.5645 - accuracy: 0.7331\n",
            "Epoch 51/100\n",
            "154/154 [==============================] - 0s 968us/step - loss: 0.5638 - accuracy: 0.7266\n",
            "Epoch 52/100\n",
            "154/154 [==============================] - 0s 1ms/step - loss: 0.5469 - accuracy: 0.7318\n",
            "Epoch 53/100\n",
            "154/154 [==============================] - 0s 1ms/step - loss: 0.5632 - accuracy: 0.7188\n",
            "Epoch 54/100\n",
            "154/154 [==============================] - 0s 1ms/step - loss: 0.5632 - accuracy: 0.7109\n",
            "Epoch 55/100\n",
            "154/154 [==============================] - 0s 1ms/step - loss: 0.5642 - accuracy: 0.7240\n",
            "Epoch 56/100\n",
            "154/154 [==============================] - 0s 1ms/step - loss: 0.5524 - accuracy: 0.7253\n",
            "Epoch 57/100\n",
            "154/154 [==============================] - 0s 1ms/step - loss: 0.5623 - accuracy: 0.7161\n",
            "Epoch 58/100\n",
            "154/154 [==============================] - 0s 1ms/step - loss: 0.5602 - accuracy: 0.7253\n",
            "Epoch 59/100\n",
            "154/154 [==============================] - 0s 1ms/step - loss: 0.5453 - accuracy: 0.7318\n",
            "Epoch 60/100\n",
            "154/154 [==============================] - 0s 1ms/step - loss: 0.5636 - accuracy: 0.7214\n",
            "Epoch 61/100\n",
            "154/154 [==============================] - 0s 1ms/step - loss: 0.5581 - accuracy: 0.7318\n",
            "Epoch 62/100\n",
            "154/154 [==============================] - 0s 1ms/step - loss: 0.5503 - accuracy: 0.7279\n",
            "Epoch 63/100\n",
            "154/154 [==============================] - 0s 1ms/step - loss: 0.5595 - accuracy: 0.7174\n",
            "Epoch 64/100\n",
            "154/154 [==============================] - 0s 1ms/step - loss: 0.5590 - accuracy: 0.7279\n",
            "Epoch 65/100\n",
            "154/154 [==============================] - 0s 1ms/step - loss: 0.5511 - accuracy: 0.7227\n",
            "Epoch 66/100\n",
            "154/154 [==============================] - 0s 1ms/step - loss: 0.5542 - accuracy: 0.7292\n",
            "Epoch 67/100\n",
            "154/154 [==============================] - 0s 1ms/step - loss: 0.5420 - accuracy: 0.7383\n",
            "Epoch 68/100\n",
            "154/154 [==============================] - 0s 1ms/step - loss: 0.5421 - accuracy: 0.7435\n",
            "Epoch 69/100\n",
            "154/154 [==============================] - 0s 1ms/step - loss: 0.5461 - accuracy: 0.7435\n",
            "Epoch 70/100\n",
            "154/154 [==============================] - 0s 985us/step - loss: 0.5533 - accuracy: 0.7344\n",
            "Epoch 71/100\n",
            "154/154 [==============================] - 0s 1ms/step - loss: 0.5492 - accuracy: 0.7435\n",
            "Epoch 72/100\n",
            "154/154 [==============================] - 0s 1ms/step - loss: 0.5420 - accuracy: 0.7370\n",
            "Epoch 73/100\n",
            "154/154 [==============================] - 0s 1ms/step - loss: 0.5383 - accuracy: 0.7370\n",
            "Epoch 74/100\n",
            "154/154 [==============================] - 0s 1ms/step - loss: 0.5332 - accuracy: 0.7435\n",
            "Epoch 75/100\n",
            "154/154 [==============================] - 0s 1ms/step - loss: 0.5474 - accuracy: 0.7253\n",
            "Epoch 76/100\n",
            "154/154 [==============================] - 0s 1ms/step - loss: 0.5381 - accuracy: 0.7591\n",
            "Epoch 77/100\n",
            "154/154 [==============================] - 0s 1ms/step - loss: 0.5429 - accuracy: 0.7409\n",
            "Epoch 78/100\n",
            "154/154 [==============================] - 0s 1ms/step - loss: 0.5292 - accuracy: 0.7422\n",
            "Epoch 79/100\n",
            "154/154 [==============================] - 0s 1ms/step - loss: 0.5318 - accuracy: 0.7422\n",
            "Epoch 80/100\n",
            "154/154 [==============================] - 0s 1ms/step - loss: 0.5332 - accuracy: 0.7461\n",
            "Epoch 81/100\n",
            "154/154 [==============================] - 0s 1ms/step - loss: 0.5425 - accuracy: 0.7279\n",
            "Epoch 82/100\n",
            "154/154 [==============================] - 0s 1ms/step - loss: 0.5299 - accuracy: 0.7409\n",
            "Epoch 83/100\n",
            "154/154 [==============================] - 0s 1ms/step - loss: 0.5321 - accuracy: 0.7409\n",
            "Epoch 84/100\n",
            "154/154 [==============================] - 0s 973us/step - loss: 0.5241 - accuracy: 0.7357\n",
            "Epoch 85/100\n",
            "154/154 [==============================] - 0s 1ms/step - loss: 0.5296 - accuracy: 0.7604\n",
            "Epoch 86/100\n",
            "154/154 [==============================] - 0s 1ms/step - loss: 0.5236 - accuracy: 0.7448\n",
            "Epoch 87/100\n",
            "154/154 [==============================] - 0s 1ms/step - loss: 0.5302 - accuracy: 0.7318\n",
            "Epoch 88/100\n",
            "154/154 [==============================] - 0s 1ms/step - loss: 0.5228 - accuracy: 0.7487\n",
            "Epoch 89/100\n",
            "154/154 [==============================] - 0s 1ms/step - loss: 0.5222 - accuracy: 0.7578\n",
            "Epoch 90/100\n",
            "154/154 [==============================] - 0s 1ms/step - loss: 0.5212 - accuracy: 0.7604\n",
            "Epoch 91/100\n",
            "154/154 [==============================] - 0s 979us/step - loss: 0.5282 - accuracy: 0.7448\n",
            "Epoch 92/100\n",
            "154/154 [==============================] - 0s 1ms/step - loss: 0.5200 - accuracy: 0.7435\n",
            "Epoch 93/100\n",
            "154/154 [==============================] - 0s 1ms/step - loss: 0.5143 - accuracy: 0.7448\n",
            "Epoch 94/100\n",
            "154/154 [==============================] - 0s 1ms/step - loss: 0.5194 - accuracy: 0.7656\n",
            "Epoch 95/100\n",
            "154/154 [==============================] - 0s 1ms/step - loss: 0.5192 - accuracy: 0.7552\n",
            "Epoch 96/100\n",
            "154/154 [==============================] - 0s 1ms/step - loss: 0.5120 - accuracy: 0.7552\n",
            "Epoch 97/100\n",
            "154/154 [==============================] - 0s 978us/step - loss: 0.5122 - accuracy: 0.7578\n",
            "Epoch 98/100\n",
            "154/154 [==============================] - 0s 1ms/step - loss: 0.5133 - accuracy: 0.7526\n",
            "Epoch 99/100\n",
            "154/154 [==============================] - 0s 1ms/step - loss: 0.5160 - accuracy: 0.7435\n",
            "Epoch 100/100\n",
            "154/154 [==============================] - 0s 1ms/step - loss: 0.5067 - accuracy: 0.7630\n"
          ]
        }
      ]
    },
    {
      "cell_type": "code",
      "source": [
        ""
      ],
      "metadata": {
        "id": "9kkskRRMR9xu"
      },
      "execution_count": null,
      "outputs": []
    }
  ]
}